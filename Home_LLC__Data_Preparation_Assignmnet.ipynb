{
  "nbformat": 4,
  "nbformat_minor": 0,
  "metadata": {
    "colab": {
      "private_outputs": true,
      "provenance": [],
      "collapsed_sections": [
        "7hBIi_osiCS2",
        "JlHwYmJAmNHm"
      ],
      "include_colab_link": true
    },
    "kernelspec": {
      "name": "python3",
      "display_name": "Python 3"
    },
    "language_info": {
      "name": "python"
    }
  },
  "cells": [
    {
      "cell_type": "markdown",
      "metadata": {
        "id": "view-in-github",
        "colab_type": "text"
      },
      "source": [
        "<a href=\"https://colab.research.google.com/github/nitish6121999/US-HOME-PRICE-PREDICTION/blob/main/Home_LLC__Data_Preparation_Assignmnet.ipynb\" target=\"_parent\"><img src=\"https://colab.research.google.com/assets/colab-badge.svg\" alt=\"Open In Colab\"/></a>"
      ]
    },
    {
      "cell_type": "markdown",
      "source": [
        "# **Project Name**    - U.S HOME PRICE PREDICTION\n",
        "\n"
      ],
      "metadata": {
        "id": "vncDsAP0Gaoa"
      }
    },
    {
      "cell_type": "markdown",
      "source": [
        "##### **Project Type**    - Supervised Machine Learning Regression\n",
        "##### **Created by**      - Nitish N Naik"
      ],
      "metadata": {
        "id": "beRrZCGUAJYm"
      }
    },
    {
      "cell_type": "markdown",
      "source": [
        "# **GitHub Link -**"
      ],
      "metadata": {
        "id": "w6K7xa23Elo4"
      }
    },
    {
      "cell_type": "markdown",
      "source": [
        "Provide your GitHub Link here."
      ],
      "metadata": {
        "id": "h1o69JH3Eqqn"
      }
    },
    {
      "cell_type": "markdown",
      "source": [
        "# **Problem Statement**\n"
      ],
      "metadata": {
        "id": "yQaldy8SH6Dl"
      }
    },
    {
      "cell_type": "markdown",
      "source": [
        "\n",
        "The aim of this study is to develop a robust predictive model for US home prices leveraging comprehensive datasets encompassing various economic, societal, and market-related factors. The objective is to accurately predict future home prices based on historical trends and the interplay of influential variables.\n",
        "\n",
        "Steps Involved:\n",
        "\n",
        "Data Collection: Gather data from credible online sources encompassing US home pricing, real estate metrics, and a comprehensive set of factors known to influence housing markets.\n",
        "\n",
        "Dataset Merging and Understanding: Consolidate and merge datasets to create a unified dataset. Understand the structure, contents, and relationships within the data.\n",
        "\n",
        "Focus on US Home Pricing and Real Estate: Delve deep into the dynamics of US home pricing and real estate markets to comprehend patterns, trends, and influencing factors.\n",
        "\n",
        "Factor Identification and Understanding: Identify, analyze, and understand the multitude of factors affecting home prices as potential independent variables.\n",
        "\n",
        "Exploratory Data Analysis (EDA): Perform exploratory data analysis to uncover correlations, trends, outliers, and patterns within the dataset. This step involves data cleaning, visualization, and statistical analysis.\n",
        "\n",
        "Model Development: Utilize machine learning or statistical modeling techniques to build a predictive model. Train the model using historical data and the identified factors to predict future home prices accurately.\n",
        "\n",
        "Model Evaluation and Validation: Validate the model's accuracy, robustness, and predictive capabilities using suitable metrics and validation techniques.\n",
        "\n",
        "Iterative Refinement: Continuously refine the model based on feedback from validation results. Fine-tune parameters or consider additional factors to enhance predictive accuracy.*\n",
        "\n"
      ],
      "metadata": {
        "id": "DpeJGUA3kjGy"
      }
    },
    {
      "cell_type": "markdown",
      "source": [
        "### Factors considered\n",
        "\n",
        "House price Index 2001-2023\n",
        "\n",
        "Average Sales Price of Houses Sold for the United States\n",
        "\n",
        "Consumer Price Index for All Urban Consumers Housing in U.S. City\n",
        "\n",
        "Average Economic Policy Uncertainty Index for United States (USEPUINDXD)\n",
        "\n",
        "Government subsidies Federal Housing L312051A027NBEA\n",
        "\n",
        "Homeownership Rate in the United States RHORUSQ156N\n",
        "\n",
        "Interest Rates and Price Indexes 2001-2023.csv\n",
        "\n",
        "Monthly Supply of New Houses in the United States\n",
        "\n",
        "Mortgage Average in the United States MORTGAGE30US\n",
        "\n",
        "Net housing value added Subsidies\n",
        "\n",
        "Public Transportation in U.S. City Average\n",
        "\n",
        "Real Median Household Income in the United States 2001-2022\n",
        "\n",
        "Unemployeement rate 2002-2023\n",
        "\n",
        "Working Age Population Aged 15-64"
      ],
      "metadata": {
        "id": "LRb5FQ1_yQ2Z"
      }
    },
    {
      "cell_type": "markdown",
      "source": [
        "# ***Let's Begin !***"
      ],
      "metadata": {
        "id": "O_i_v8NEhb9l"
      }
    },
    {
      "cell_type": "markdown",
      "source": [
        "## ***1. Know Your Data***"
      ],
      "metadata": {
        "id": "HhfV-JJviCcP"
      }
    },
    {
      "cell_type": "markdown",
      "source": [
        "### Import Libraries"
      ],
      "metadata": {
        "id": "Y3lxredqlCYt"
      }
    },
    {
      "cell_type": "code",
      "source": [
        "# Import Libraries\n",
        "import numpy as np\n",
        "import pandas as pd\n",
        "\n",
        "import matplotlib.pyplot as plt\n",
        "import seaborn as sns\n",
        "\n",
        "import warnings\n",
        "warnings.filterwarnings('ignore')"
      ],
      "metadata": {
        "id": "M8Vqi-pPk-HR"
      },
      "execution_count": null,
      "outputs": []
    },
    {
      "cell_type": "markdown",
      "source": [
        "### Dataset Loading"
      ],
      "metadata": {
        "id": "3RnN4peoiCZX"
      }
    },
    {
      "cell_type": "code",
      "source": [
        "# Load Dataset"
      ],
      "metadata": {
        "id": "4CkvbW_SlZ_R"
      },
      "execution_count": null,
      "outputs": []
    },
    {
      "cell_type": "code",
      "source": [
        "from google.colab import drive\n",
        "drive.mount('/content/drive')"
      ],
      "metadata": {
        "id": "pNIOs5HL2eiE"
      },
      "execution_count": null,
      "outputs": []
    },
    {
      "cell_type": "markdown",
      "source": [
        "### Dataset First View"
      ],
      "metadata": {
        "id": "x71ZqKXriCWQ"
      }
    },
    {
      "cell_type": "code",
      "source": [
        "# Dataset First Look\n",
        "#path= '/content/drive/MyDrive/Access file/Extras/HOME LLC/Dataset/House price Index 2001-2023.csv'\n",
        "\n",
        "df_hpi=pd.read_csv('/content/drive/MyDrive/Access file/Extras/HOME LLC/Dataset/House price Index 2001-2023.csv',names=[\"DATE\",\"Price-index\"], skiprows = 1)\n",
        "#df_cons_price_index = pd.read_csv(\"Construction_Price.csv\", names = [\"DATE\", \"Cons_Materials\"], skiprows = 1)"
      ],
      "metadata": {
        "id": "LWNFOSvLl09H"
      },
      "execution_count": null,
      "outputs": []
    },
    {
      "cell_type": "code",
      "source": [],
      "metadata": {
        "id": "CshKTrX04EY9"
      },
      "execution_count": null,
      "outputs": []
    },
    {
      "cell_type": "code",
      "source": [
        "#Changing dtype of date column\n",
        "df_hpi[\"DATE\"] = pd.to_datetime(df_hpi[\"DATE\"])\n",
        "\n",
        "#Selecting data post JUNE 2001\n",
        "mask = df_hpi[\"DATE\"] <= \"2022-12-01\"\n",
        "df_hpi = df_hpi[mask]\n",
        "\n",
        "#Resetting Index\n",
        "df_hpi.reset_index(inplace = True)\n",
        "df_hpi.drop(columns = [\"index\"], inplace = True)\n",
        "\n",
        "# Creating \"Year\" and \"Month\" columns\n",
        "df_hpi[\"Year\"] = pd.DatetimeIndex(df_hpi[\"DATE\"]).year\n",
        "df_hpi[\"Month\"] = pd.DatetimeIndex(df_hpi[\"DATE\"]).month\n",
        "print(df_hpi.shape)\n",
        "df_hpi.head()"
      ],
      "metadata": {
        "id": "5R-Pjmqk3S9l"
      },
      "execution_count": null,
      "outputs": []
    },
    {
      "cell_type": "markdown",
      "source": [
        "### Dataset Rows & Columns count"
      ],
      "metadata": {
        "id": "7hBIi_osiCS2"
      }
    },
    {
      "cell_type": "code",
      "source": [
        "# Dataset Rows & Columns count\n",
        "df_hpi.shape"
      ],
      "metadata": {
        "id": "Kllu7SJgmLij"
      },
      "execution_count": null,
      "outputs": []
    },
    {
      "cell_type": "markdown",
      "source": [
        "### Dataset Information"
      ],
      "metadata": {
        "id": "JlHwYmJAmNHm"
      }
    },
    {
      "cell_type": "markdown",
      "source": [
        "###Unemployeement rate"
      ],
      "metadata": {
        "id": "mUlH-3nA79OI"
      }
    },
    {
      "cell_type": "code",
      "source": [
        "# importing Dataset from different sources\n",
        "df_unem=pd.read_csv('/content/drive/MyDrive/Access file/Extras/HOME LLC/Dataset/Unemployeement rate 2002-2023.csv', encoding='unicode_escape', parse_dates=[0])\n",
        "print(df_unem.shape)\n",
        "\n",
        "df_unem.head()"
      ],
      "metadata": {
        "id": "e9hRXRi6meOf"
      },
      "execution_count": null,
      "outputs": []
    },
    {
      "cell_type": "code",
      "source": [
        " #df_hpi = pd.concat([df_hpi,df_unem], axis = 1)\n",
        "# df_hpi.head()\n"
      ],
      "metadata": {
        "id": "n5JlBYP0V_Rm"
      },
      "execution_count": null,
      "outputs": []
    },
    {
      "cell_type": "markdown",
      "source": [
        "\n",
        "Average Sales Price of Houses Sold for the United States\n"
      ],
      "metadata": {
        "id": "tCLZLWlY8i10"
      }
    },
    {
      "cell_type": "code",
      "source": [
        "df_hs=pd.read_csv('/content/drive/MyDrive/Access file/Extras/HOME LLC/Dataset/Average Sales Price of Houses Sold for the United States ASPUS.csv',  names = [\"DATE\", \"avg_sales_price\"], skiprows = 1)\n",
        "print(df_hs.shape)\n",
        "\n",
        "df_hs.head()"
      ],
      "metadata": {
        "id": "fa1gMEpR8b8N"
      },
      "execution_count": null,
      "outputs": []
    },
    {
      "cell_type": "markdown",
      "source": [
        "\n",
        "Consumer Price Index for All Urban Consumers Housing in U.S. City\n",
        "\n"
      ],
      "metadata": {
        "id": "R3MeOETt8j97"
      }
    },
    {
      "cell_type": "code",
      "source": [
        "df_cpi=pd.read_csv('/content/drive/MyDrive/Access file/Extras/HOME LLC/Dataset/Consumer Price Index for All Urban Consumers Housing in U.S. City Average 2001-2023.csv', names = [\"DATE\", \"con_price_index\"], skiprows = 1)\n",
        "print(df_cpi.shape)\n",
        "\n",
        "df_cpi.head()"
      ],
      "metadata": {
        "id": "4bAs8xR28b4q"
      },
      "execution_count": null,
      "outputs": []
    },
    {
      "cell_type": "markdown",
      "source": [
        "Average Economic Policy Uncertainty Index for United States (USEPUINDXD)\n",
        "\n"
      ],
      "metadata": {
        "id": "NxXaOV4f8k2C"
      }
    },
    {
      "cell_type": "code",
      "source": [
        "df_ep=pd.read_csv('/content/drive/MyDrive/Access file/Extras/HOME LLC/Dataset/Economic Policy Uncertainty Index for United States (USEPUINDXD).csv', names = [\"DATE\", \"avg_Eco_policy\"], skiprows = 1)\n",
        "print(df_ep.shape)\n",
        "\n",
        "df_ep.head()"
      ],
      "metadata": {
        "id": "oK665tr58b2W"
      },
      "execution_count": null,
      "outputs": []
    },
    {
      "cell_type": "markdown",
      "source": [
        "Government subsidies Federal Housing L312051A027NBEA\n",
        "\n"
      ],
      "metadata": {
        "id": "niEUcK-I8lYd"
      }
    },
    {
      "cell_type": "code",
      "source": [
        "df_gs=pd.read_csv('/content/drive/MyDrive/Access file/Extras/HOME LLC/Dataset/Government subsidies Federal Housing L312051A027NBEA.csv', names = [\"DATE\", \"govt_subsidies\"], skiprows = 1)\n",
        "print(df_gs.shape)\n",
        "\n",
        "df_gs.head()"
      ],
      "metadata": {
        "id": "RVzPznnl8bzt"
      },
      "execution_count": null,
      "outputs": []
    },
    {
      "cell_type": "markdown",
      "source": [
        "Homeownership Rate in the United States RHORUSQ156N\n",
        "\n"
      ],
      "metadata": {
        "id": "2wmeOoTX8mRn"
      }
    },
    {
      "cell_type": "code",
      "source": [
        "df_ho=pd.read_csv('/content/drive/MyDrive/Access file/Extras/HOME LLC/Dataset/Homeownership Rate in the United States RHORUSQ156N.csv', names = [\"DATE\", \"homeownership_rate\"], skiprows = 1)\n",
        "print(df_ho.shape)\n",
        "\n",
        "df_ho.head()"
      ],
      "metadata": {
        "id": "d1rkaHhd8bxY"
      },
      "execution_count": null,
      "outputs": []
    },
    {
      "cell_type": "markdown",
      "source": [
        "Interest Rates and Price Indexes 2001-2023.csv\n",
        "\n"
      ],
      "metadata": {
        "id": "TcH1cGZ38nIc"
      }
    },
    {
      "cell_type": "code",
      "source": [
        "df_ir=pd.read_csv('/content/drive/MyDrive/Access file/Extras/HOME LLC/Dataset/Interest Rates and Price Indexes 2001-2023.csv', names = [\"DATE\", \"Interest_rate\"], skiprows = 1)\n",
        "print(df_ir.shape)\n",
        "\n",
        "df_ir.head()"
      ],
      "metadata": {
        "id": "I1S0Ni4K8bu0"
      },
      "execution_count": null,
      "outputs": []
    },
    {
      "cell_type": "markdown",
      "source": [
        "Monthly Supply of New Houses in the United States\n"
      ],
      "metadata": {
        "id": "XaRXi9b28n5G"
      }
    },
    {
      "cell_type": "code",
      "source": [
        "df_ms=pd.read_csv('/content/drive/MyDrive/Access file/Extras/HOME LLC/Dataset/Monthly Supply of New Houses in the United States.csv', names = [\"DATE\", \"monthly_new_house\"], skiprows = 1)\n",
        "print(df_ms.shape)\n",
        "\n",
        "df_ms.head()"
      ],
      "metadata": {
        "id": "JR9NlKJk8bsf"
      },
      "execution_count": null,
      "outputs": []
    },
    {
      "cell_type": "markdown",
      "source": [
        "\n",
        "Mortgage Average in the United States MORTGAGE30US\n"
      ],
      "metadata": {
        "id": "PcUWrxLz8oZg"
      }
    },
    {
      "cell_type": "code",
      "source": [
        "df_ma=pd.read_csv('/content/drive/MyDrive/Access file/Extras/HOME LLC/Dataset/mortgage_rate.csv', names = [\"DATE\", \"mortgage\"], skiprows = 1)\n",
        "print(df_ma.shape)\n",
        "\n",
        "df_ma.head()"
      ],
      "metadata": {
        "id": "HcdBovrT8bp8"
      },
      "execution_count": null,
      "outputs": []
    },
    {
      "cell_type": "markdown",
      "source": [
        "\n",
        "Net housing value added Subsidies\n"
      ],
      "metadata": {
        "id": "eFDEwFkl8pdE"
      }
    },
    {
      "cell_type": "code",
      "source": [
        "df_nhv=pd.read_csv('/content/drive/MyDrive/Access file/Extras/HOME LLC/Dataset/Net housing value added Subsidies.csv', names = [\"DATE\", \"net_housing_value\"], skiprows = 1)\n",
        "print(df_nhv.shape)\n",
        "\n",
        "df_nhv.head()"
      ],
      "metadata": {
        "id": "FTscX-Ug8bnY"
      },
      "execution_count": null,
      "outputs": []
    },
    {
      "cell_type": "markdown",
      "source": [
        "\n",
        "Public Transportation in U.S. City Average\n"
      ],
      "metadata": {
        "id": "8Jo7d-jq8qJU"
      }
    },
    {
      "cell_type": "code",
      "source": [
        "df_pt=pd.read_csv('/content/drive/MyDrive/Access file/Extras/HOME LLC/Dataset/Public Transportation in U.S. City Average.csv', names = [\"DATE\", \"transportation\"], skiprows = 1)\n",
        "print(df_pt.shape)\n",
        "\n",
        "df_pt.head()"
      ],
      "metadata": {
        "id": "I474mhlj8bk2"
      },
      "execution_count": null,
      "outputs": []
    },
    {
      "cell_type": "markdown",
      "source": [
        "\n",
        "Real Median Household Income in the United States 2001-2022\n",
        "\n"
      ],
      "metadata": {
        "id": "4MVTgxrh9FYD"
      }
    },
    {
      "cell_type": "code",
      "source": [
        "df_hi=pd.read_csv('/content/drive/MyDrive/Access file/Extras/HOME LLC/Dataset/Real Median Household Income in the United States 2001-2022.csv', names = [\"DATE\", \"household_income\"], skiprows = 1)\n",
        "print(df_hi.shape)\n",
        "\n",
        "df_hi.head()"
      ],
      "metadata": {
        "id": "fmBa8u3L8biP"
      },
      "execution_count": null,
      "outputs": []
    },
    {
      "cell_type": "markdown",
      "source": [
        "Working Age Population Aged 15-64"
      ],
      "metadata": {
        "id": "E_x6QrqC-Cdy"
      }
    },
    {
      "cell_type": "code",
      "source": [
        "df_wp=pd.read_csv('/content/drive/MyDrive/Access file/Extras/HOME LLC/Dataset/Working Age Population Aged 15-64.csv', names = [\"DATE\", \"population\"], skiprows = 1)\n",
        "\n",
        "print(df_wp.shape)\n",
        "\n",
        "df_wp.head()"
      ],
      "metadata": {
        "id": "rHDavoA4-B8E"
      },
      "execution_count": null,
      "outputs": []
    },
    {
      "cell_type": "markdown",
      "source": [
        "Fedral funds effective rate"
      ],
      "metadata": {
        "id": "hrVmnaoesSzT"
      }
    },
    {
      "cell_type": "code",
      "source": [
        "df_ff=pd.read_csv('/content/drive/MyDrive/Access file/Extras/HOME LLC/Dataset/Federal Funds Effective Rate FEDFUNDS.csv',  names = [\"DATE\", \"fedral_rate\"], skiprows = 1)\n",
        "print(df_ff.shape)\n",
        "\n",
        "df_ff.head()"
      ],
      "metadata": {
        "id": "5sLW0DmPsSYf"
      },
      "execution_count": null,
      "outputs": []
    },
    {
      "cell_type": "markdown",
      "source": [
        "GDP"
      ],
      "metadata": {
        "id": "v_GxLaKusTnP"
      }
    },
    {
      "cell_type": "code",
      "source": [
        "df_gdp=pd.read_csv(\"/content/drive/MyDrive/Access file/Extras/HOME LLC/Dataset/GDP.csv\", names = [\"DATE\", \"Per_Capita_GDP\"], skiprows = 1)\n",
        "print(df_gdp.shape)\n",
        "\n",
        "df_gdp.head()"
      ],
      "metadata": {
        "id": "1q0XPKFYsUYk"
      },
      "execution_count": null,
      "outputs": []
    },
    {
      "cell_type": "markdown",
      "source": [
        "df_bymonth = [df_hpi, df_unem, df_cpi, df_ep,df_ms,df_pt,df_wp,df_ff]"
      ],
      "metadata": {
        "id": "r1NdKTxoLLkR"
      }
    },
    {
      "cell_type": "code",
      "source": [
        "df_bymonth = [df_ep,df_unem,df_cpi,df_ms,df_pt,df_wp,df_ff]\n",
        "for df1 in df_bymonth:\n",
        "  df_hpi = pd.concat([df_hpi,df1],axis=1)\n",
        "print(df_hpi.shape)\n",
        "df_hpi.head()"
      ],
      "metadata": {
        "id": "5aRE8MTpFnIs"
      },
      "execution_count": null,
      "outputs": []
    },
    {
      "cell_type": "code",
      "source": [
        "df_hpi.isnull().sum()"
      ],
      "metadata": {
        "id": "CAlNKNkuFnGa"
      },
      "execution_count": null,
      "outputs": []
    },
    {
      "cell_type": "code",
      "source": [
        "df_hpi.dropna(inplace=True)"
      ],
      "metadata": {
        "id": "FDq32kwsFnAw"
      },
      "execution_count": null,
      "outputs": []
    },
    {
      "cell_type": "code",
      "source": [
        "df_hpi.head()"
      ],
      "metadata": {
        "id": "GUHpqND-Fm-P"
      },
      "execution_count": null,
      "outputs": []
    },
    {
      "cell_type": "code",
      "source": [
        "date_columns = [col for col in df_hpi.columns if col == 'DATE']\n",
        "columns_to_drop = date_columns[1:]\n",
        "\n",
        "# Drop columns except the first occurrence of 'DATE'\n",
        "df_hpi.drop(columns=columns_to_drop, inplace=True)"
      ],
      "metadata": {
        "id": "oa9kbp32Fm7h"
      },
      "execution_count": null,
      "outputs": []
    },
    {
      "cell_type": "code",
      "source": [
        "df_hpi.shape"
      ],
      "metadata": {
        "id": "MpvZygjVFm4_"
      },
      "execution_count": null,
      "outputs": []
    },
    {
      "cell_type": "code",
      "source": [
        "df_hpi.head()"
      ],
      "metadata": {
        "id": "rJQcGuwHFm2T"
      },
      "execution_count": null,
      "outputs": []
    },
    {
      "cell_type": "code",
      "source": [
        "df_bymonth = [df_gs,df_ma,df_nhv,df_hi,df_hs,df_ho,df_gdp,df_ir]\n",
        "for df1 in df_bymonth:\n",
        "  df_hpi = pd.concat([df_hpi,df1],axis=1)\n",
        "print(df_hpi.shape)\n",
        "df_hpi.head()"
      ],
      "metadata": {
        "id": "JGaWzpsicqRq"
      },
      "execution_count": null,
      "outputs": []
    },
    {
      "cell_type": "code",
      "source": [
        "df_hpi.isnull().sum()"
      ],
      "metadata": {
        "id": "mhHDDlw-cqOH"
      },
      "execution_count": null,
      "outputs": []
    },
    {
      "cell_type": "code",
      "source": [
        "date_columns = [col for col in df_hpi.columns if col == 'DATE']\n",
        "columns_to_drop = date_columns[1:]\n",
        "\n",
        "# Drop columns except the first occurrence of 'DATE'\n",
        "df_hpi.drop(columns=columns_to_drop, inplace=True)"
      ],
      "metadata": {
        "id": "8JT1nCwjcqLo"
      },
      "execution_count": null,
      "outputs": []
    },
    {
      "cell_type": "code",
      "source": [
        "df_hpi.isnull().sum()"
      ],
      "metadata": {
        "id": "4afIa5s2dZzf"
      },
      "execution_count": null,
      "outputs": []
    },
    {
      "cell_type": "markdown",
      "source": [
        "###Yearly Data Present\n",
        "Govt_subsidies        230\n",
        "\n",
        "mortgage              230\n",
        "\n",
        "net_housing_value     230\n",
        "\n",
        "household_income      230\n",
        "\n",
        "###Quarterly Data present\n",
        "\n",
        "avg_sales_price       161\n",
        "\n",
        "homeownership_rate    161\n",
        "\n",
        "Per_Capita_GDP        161\n",
        "\n",
        "Interest_rate         165"
      ],
      "metadata": {
        "id": "Z6Y04pgRdgAr"
      }
    },
    {
      "cell_type": "code",
      "source": [
        "columns_to_interpolate = ['govt_subsidies', 'mortgage', 'net_housing_value', 'household_income',\n",
        "                          'avg_sales_price', 'homeownership_rate', 'Per_Capita_GDP', 'Interest_rate']\n",
        "\n",
        "# Interpolate missing values in specified columns\n",
        "df_hpi[columns_to_interpolate] = df_hpi[columns_to_interpolate].interpolate()\n"
      ],
      "metadata": {
        "id": "ala0Y6fFd1JC"
      },
      "execution_count": null,
      "outputs": []
    },
    {
      "cell_type": "code",
      "source": [
        "df_hpi.shape"
      ],
      "metadata": {
        "id": "8KDPIsMkfZY3"
      },
      "execution_count": null,
      "outputs": []
    },
    {
      "cell_type": "code",
      "source": [
        "df_hpi.isnull().sum()"
      ],
      "metadata": {
        "id": "MTx_OSrtfcBn"
      },
      "execution_count": null,
      "outputs": []
    },
    {
      "cell_type": "code",
      "source": [
        "df_hpi.to_csv(\"merged_dataset.csv\")"
      ],
      "metadata": {
        "id": "R2On8YVqfokp"
      },
      "execution_count": null,
      "outputs": []
    },
    {
      "cell_type": "code",
      "source": [
        "df_hpi.head(10)"
      ],
      "metadata": {
        "id": "KHQKKQcGgQMF"
      },
      "execution_count": null,
      "outputs": []
    },
    {
      "cell_type": "markdown",
      "source": [
        "EXPLORATORY DATA ANALYIS IS DONE IN THE FULL ASSIGNMENT FILE"
      ],
      "metadata": {
        "id": "rA3urBM882pu"
      }
    }
  ]
}